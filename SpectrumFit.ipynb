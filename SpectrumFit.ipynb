{
 "cells": [
  {
   "cell_type": "markdown",
   "metadata": {},
   "source": [
    "# Spectrum fitting tools\n",
    "# スペクトルフィッティングツール\n",
    "車輪の再発明的にフィッティングを一から作って、最終的にはスペクトルを分離フィッティングする。"
   ]
  },
  {
   "cell_type": "markdown",
   "metadata": {},
   "source": [
    "## 参考にしたサイト\n",
    "[Pythonで非線形関数モデリング](https://qiita.com/hik0107/items/9bdc236600635a0e61e8)  \n",
    "[研究者のための実践データ処理～Pythonでピークフィッティング～](https://qiita.com/kon2/items/6498e66af55949b41a99)"
   ]
  },
  {
   "cell_type": "code",
   "execution_count": 1,
   "metadata": {},
   "outputs": [],
   "source": [
    "# import files\n",
    "import numpy as np\n",
    "import matplotlib.pyplot as plt\n",
    "from numpy import exp, log, inf, sum\n",
    "from scipy.optimize import curve_fit"
   ]
  },
  {
   "cell_type": "code",
   "execution_count": 2,
   "metadata": {},
   "outputs": [],
   "source": [
    "# Constant\n",
    "LOOP_MAX = 100 # ループ回数の最大値"
   ]
  },
  {
   "cell_type": "markdown",
   "metadata": {},
   "source": [
    "## ガウス関数\n",
    "スペクトルのピークはガウス関数で近似できいると仮定する  \n",
    "ガウス関数は  \n",
    "$$\n",
    "y = a\\exp \\biggl\\{ -\\frac{(x-b)^{2}}{2c^{2}} \\biggr\\}\n",
    "$$\n",
    "で表される。"
   ]
  },
  {
   "cell_type": "code",
   "execution_count": 3,
   "metadata": {},
   "outputs": [],
   "source": [
    "def gaussian(x,a=1,b=0,c=1):\n",
    "    \"\"\"\n",
    "    ガウス関数を返す\n",
    "    Parameters\n",
    "    ----------\n",
    "    x : numpy.ndarray\n",
    "    a : float\n",
    "    b : float\n",
    "    c : float\n",
    "    Returns\n",
    "    -------\n",
    "    gaussian : numpy.ndarray\n",
    "    \"\"\"\n",
    "    return a*exp(-(x-b)**2/(2*c**2))"
   ]
  },
  {
   "cell_type": "markdown",
   "metadata": {},
   "source": [
    "## 単一のガウス関数フィッティング\n",
    "### 初期値の設定  \n",
    "\n",
    "- a: データ列の最大値  \n",
    "- b: 最大値を与える位置\n",
    "- c: 半値幅　　\n",
    "\n",
    "を設定して計算させる\n",
    "### 解析範囲の設定\n",
    "Gauss関数の場合、半値幅（FWHM)は\n",
    "$$\n",
    "FWHM = 2\\sqrt{2\\ln{2}}\\sigma \\approx 2.35\\sigma\n",
    "$$\n",
    "なので、FWHMを解析範囲に設定"
   ]
  },
  {
   "cell_type": "code",
   "execution_count": 4,
   "metadata": {},
   "outputs": [],
   "source": [
    "def peak_info(data):\n",
    "    \"\"\"\n",
    "    データの最大値の高さ、位置、半値幅を返す\n",
    "    Parameters\n",
    "    ----------\n",
    "    data : numpy.ndarray\n",
    "        入力データ\n",
    "    Returns\n",
    "    -------\n",
    "    height : float\n",
    "        データの最大値\n",
    "    pos : int\n",
    "        最大値を与えるインデックス\n",
    "    width : int\n",
    "        半値幅\n",
    "    \"\"\"\n",
    "   \n",
    "    def find_first_index(x,flag):\n",
    "        \"\"\"\n",
    "        Boolean列でFlag値が最初に現れる位置を返す\n",
    "        Parameters\n",
    "        ----------\n",
    "        x : list\n",
    "            True/False\n",
    "        flag : bool \n",
    "           True or False\n",
    "        Returns\n",
    "        -------\n",
    "        find_first_index : int\n",
    "            最初にflagとなったインデックス\n",
    "        \"\"\"\n",
    "        for i in range(len(x)):\n",
    "            if x[i]  == flag:\n",
    "                break\n",
    "        return i\n",
    "    height = data.max()\n",
    "    pos = data.argmax()\n",
    "    low = find_first_index(data[pos:0:-1] < height/2,True)\n",
    "    high = find_first_index(data[pos::] < height/2,True)\n",
    "    width = low+high\n",
    "    return height, pos, width"
   ]
  },
  {
   "cell_type": "code",
   "execution_count": 5,
   "metadata": {},
   "outputs": [],
   "source": [
    "def fit_gaussian(data):\n",
    "    \"\"\"\n",
    "    最大値付近をガウス関数でフィッティングする\n",
    "    Parameters\n",
    "    ----------\n",
    "    data : numpy.ndarray\n",
    "        入力データ\n",
    "    Returns\n",
    "    -------\n",
    "    param : numpy.ndarray\n",
    "        フィッティングしたピーク高さ\n",
    "        フィッティングしたピーク位置\n",
    "        フィッティングしたピークの半値幅\n",
    "    \"\"\"   \n",
    "    p0 = peak_info(data)\n",
    "    xs = np.arange(len(data)) # X列を生成\n",
    "    bounds =((0,p0[1]-p0[2]/2,0),(inf,p0[1]+p0[2]/2,inf)) # 解析範囲を限定\n",
    "    param ,_ =  curve_fit(gaussian, xs, data, p0=p0,bounds=bounds)\n",
    "    return param"
   ]
  },
  {
   "cell_type": "markdown",
   "metadata": {},
   "source": [
    "## ガウス関数をプロットする"
   ]
  },
  {
   "cell_type": "code",
   "execution_count": 6,
   "metadata": {},
   "outputs": [],
   "source": [
    "def plot_gaussians(xs, params):\n",
    "    \"\"\"\n",
    "    ガウス関数をプロットする\n",
    "    Parameters\n",
    "    ----------\n",
    "    xs : numpy.ndarray\n",
    "    params : list\n",
    "        ガウスパラメータのリスト\n",
    "    \"\"\"\n",
    "    for param in params:\n",
    "        plt.plot(xs, gaussian(xs,a = param[0], b = param[1], c = param[2]))"
   ]
  },
  {
   "cell_type": "markdown",
   "metadata": {},
   "source": [
    "## 多重ガウス関数"
   ]
  },
  {
   "cell_type": "code",
   "execution_count": 7,
   "metadata": {},
   "outputs": [],
   "source": [
    "def gaussians(x,*params):    \n",
    "    \"\"\"\n",
    "    多重版ガウス関数\n",
    "    Parameters\n",
    "    ----------\n",
    "    x : numpy.ndarray\n",
    "    *params : list\n",
    "        ガウスパラメータのリスト\n",
    "    Returns\n",
    "    -------\n",
    "    gaussians : numpy.ndarray\n",
    "    \"\"\"\n",
    "\n",
    "    n = len(params)//3\n",
    "    func = np.zeros_like(x)\n",
    "    for i in range(n):\n",
    "        func += gaussian(x,a=params[i*3],b=params[i*3+1],c=params[i*3+2])\n",
    "    return func"
   ]
  },
  {
   "cell_type": "markdown",
   "metadata": {},
   "source": [
    "### 平均二乗誤差(MSE)\n",
    "実データ$x_{i}$とモデル$y_{i}$との間の誤差\n",
    "$$\n",
    "MSE = \\frac{1}{n}\\sum^{n}_{i=1}(x_{i}-y_{i})^2\n",
    "$$\n",
    "これの平方根を取ると\n",
    "$$\n",
    "RMSE = \\sqrt{\\frac{1}{n}\\sum^{n}_{i=1}(x_{i}-y_{i})^2}\n",
    "$$"
   ]
  },
  {
   "cell_type": "code",
   "execution_count": 8,
   "metadata": {},
   "outputs": [],
   "source": [
    "def mse(xs,ys):\n",
    "    \"\"\"\n",
    "    実データxsとモデルysの誤差MSEを計算する\n",
    "    Parameters\n",
    "    ----------\n",
    "    xs : numpy.ndarray\n",
    "        実データ\n",
    "    ys : numpy.ndarray\n",
    "        モデルデータ\n",
    "    Returns\n",
    "    -------\n",
    "    mse : float\n",
    "        平均二乗誤差\n",
    "    \"\"\"\n",
    "    return sum((xs-ys)**2)/len(xs)"
   ]
  },
  {
   "cell_type": "markdown",
   "metadata": {},
   "source": [
    "## 複数のガウス関数のフィッティフィッティング\n",
    "1. データの最大値をピークとみなして、フィッティングする\n",
    "1. 元のデータからフィッティングしたガウス関数を引いて、新しいデータとする\n",
    "1. 残渣と残渣の平均値のMSEを計算\n",
    "1. MSEが前回よりも大きい場合、ループを抜ける\n",
    "1. 全てのガウス関数を足して合成関数を作成する\n",
    "1. 合成関数でフィッティングを行う"
   ]
  },
  {
   "cell_type": "code",
   "execution_count": 9,
   "metadata": {},
   "outputs": [],
   "source": [
    "def fit_gaussians(data, db_level = 3.0):\n",
    "    \"\"\"\n",
    "    ｎ個のガウス関数でフィッティングする\n",
    "    Parameters\n",
    "    ----------\n",
    "    data : numpy.array\n",
    "        解析するデータ\n",
    "    db_level : float\n",
    "        感度\n",
    "    Returns\n",
    "    -------\n",
    "    params : list\n",
    "        ガウスパラメータのリスト\n",
    "    \"\"\"\n",
    "\n",
    "    xs = np.arange(len(data))\n",
    "    residuals = data.copy()\n",
    "    \n",
    "    param_list = []\n",
    "    l_limit = []\n",
    "    h_limit = []\n",
    "    \n",
    "    prior_mse = mse(residuals, np.ones_like(residuals)*residuals.mean())\n",
    "    for _ in range(LOOP_MAX):\n",
    "        param = fit_gaussian(residuals)\n",
    "        residuals -= gaussian(xs, a = param[0], b = param[1], c = param[2]) \n",
    "        post_mse = mse(residuals, np.ones_like(residuals)*residuals.mean())\n",
    "        mse_db = -10*log(post_mse/prior_mse)\n",
    "        if mse_db  < db_level:\n",
    "            break\n",
    "        param_list.extend(param)\n",
    "        l_limit.extend([0,param[1]-param[2]/2,0])\n",
    "        h_limit.extend([inf,param[1]+param[2]/2,inf])\n",
    "        prior_mse = post_mse\n",
    "    \n",
    "    bounds = (l_limit,h_limit)\n",
    "    param_list, _ = curve_fit(gaussians, xs, data, p0=param_list, bounds = bounds)\n",
    "    params = param_list.reshape((len(param_list)//3),3)\n",
    "    return params       "
   ]
  },
  {
   "cell_type": "code",
   "execution_count": 10,
   "metadata": {},
   "outputs": [
    {
     "name": "stdout",
     "output_type": "stream",
     "text": [
      "[[1.99978286e+00 2.00525366e+01 3.98407955e+00]\n",
      " [1.98895567e+00 2.40039100e+01 1.99538997e+00]\n",
      " [2.10353293e-02 1.52826080e+01 3.01766299e+00]]\n"
     ]
    },
    {
     "data": {
      "image/png": "[encoded data removed]",
      "text/plain": [
       "<Figure size 432x288 with 1 Axes>"
      ]
     },
     "metadata": {
      "needs_background": "light"
     },
     "output_type": "display_data"
    }
   ],
   "source": [
    "# TEST Code\n",
    "xs = np.arange(100)\n",
    "ys = gaussian(xs,a=2,b=24,c=2)+gaussian(xs,a=2,b=20,c=4)\n",
    "params = fit_gaussians(ys)\n",
    "plot_gaussians(xs, params)\n",
    "print(params)"
   ]
  },
  {
   "cell_type": "code",
   "execution_count": null,
   "metadata": {},
   "outputs": [],
   "source": []
  }
 ],
 "metadata": {
  "kernelspec": {
   "display_name": "Python 3",
   "language": "python",
   "name": "python3"
  },
  "language_info": {
   "codemirror_mode": {
    "name": "ipython",
    "version": 3
   },
   "file_extension": ".py",
   "mimetype": "text/x-python",
   "name": "python",
   "nbconvert_exporter": "python",
   "pygments_lexer": "ipython3",
   "version": "3.6.9"
  }
 },
 "nbformat": 4,
 "nbformat_minor": 4
}
